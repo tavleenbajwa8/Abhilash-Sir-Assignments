{
  "nbformat": 4,
  "nbformat_minor": 0,
  "metadata": {
    "colab": {
      "name": "Asgnmt: 3(Ans1 & 2: FuzzBizz & Dictionaries).ipynb",
      "provenance": [],
      "collapsed_sections": []
    },
    "kernelspec": {
      "name": "python3",
      "display_name": "Python 3"
    },
    "language_info": {
      "name": "python"
    }
  },
  "cells": [
    {
      "cell_type": "code",
      "execution_count": null,
      "metadata": {
        "colab": {
          "base_uri": "https://localhost:8080/",
          "height": 53
        },
        "id": "5cfDu_PUP-0G",
        "outputId": "574bf145-16fa-45f1-c89e-e71efb62d9b2"
      },
      "outputs": [
        {
          "output_type": "execute_result",
          "data": {
            "text/plain": [
              "'1. Create a list from 1 to 50\\n2. If an element in the list is divisible by 3 then replace that element by FIZZ if it is divisible by 5 replace by BUZZ, if it is divisible by both 5 and 3 replace by FIZZBUZZ'"
            ],
            "application/vnd.google.colaboratory.intrinsic+json": {
              "type": "string"
            }
          },
          "metadata": {},
          "execution_count": 1
        }
      ],
      "source": [
        "\"\"\"1. Create a list from 1 to 50\n",
        "2. If an element in the list is divisible by 3 then replace that element by FIZZ if it is divisible by 5 replace by BUZZ, if it is divisible by both 5 and 3 replace by FIZZBUZZ\"\"\""
      ]
    },
    {
      "cell_type": "code",
      "source": [
        "l = []\n",
        "for i in range(1,51):\n",
        "    if (i%3 == 0) and (i%5 == 0):\n",
        "        l.append(\"BuzzFizz\")\n",
        "    elif (i%3 == 0):\n",
        "        l.append(\"Buzz\")\n",
        "    elif (i%5 == 0):\n",
        "        l.append(\"Fizz\")\n",
        "    else:\n",
        "        l.append(i)\n",
        "print(l)"
      ],
      "metadata": {
        "colab": {
          "base_uri": "https://localhost:8080/"
        },
        "id": "0EoUx22DQQLV",
        "outputId": "16606290-e862-416c-b92a-bfd5ff74408e"
      },
      "execution_count": null,
      "outputs": [
        {
          "output_type": "stream",
          "name": "stdout",
          "text": [
            "[1, 2, 'Buzz', 4, 'Fizz', 'Buzz', 7, 8, 'Buzz', 'Fizz', 11, 'Buzz', 13, 14, 'BuzzFizz', 16, 17, 'Buzz', 19, 'Fizz', 'Buzz', 22, 23, 'Buzz', 'Fizz', 26, 'Buzz', 28, 29, 'BuzzFizz', 31, 32, 'Buzz', 34, 'Fizz', 'Buzz', 37, 38, 'Buzz', 'Fizz', 41, 'Buzz', 43, 44, 'BuzzFizz', 46, 47, 'Buzz', 49, 'Fizz']\n"
          ]
        }
      ]
    },
    {
      "cell_type": "code",
      "source": [
        "\"\"\"2. As discussed in class\n",
        "dict1={'a':1, 'b':4, 'd':[1,2,3,4]}\n",
        "replace all elements in 'd' by adding the value of 'a'\"\"\""
      ],
      "metadata": {
        "colab": {
          "base_uri": "https://localhost:8080/",
          "height": 35
        },
        "id": "HCjkHBXCQWsw",
        "outputId": "fa371663-1bf0-4d35-e28e-c993c4bf6b0e"
      },
      "execution_count": null,
      "outputs": [
        {
          "output_type": "execute_result",
          "data": {
            "text/plain": [
              "\"2. As discussed in class\\ndict1={'a':1, 'b':4, 'd':[1,2,3,4]}\\nreplace all elements in 'd' by adding the value of 'a'\""
            ],
            "application/vnd.google.colaboratory.intrinsic+json": {
              "type": "string"
            }
          },
          "metadata": {},
          "execution_count": 3
        }
      ]
    },
    {
      "cell_type": "code",
      "source": [
        "d = []\n",
        "x = int(input(\"Enter the value of a: \")) \n",
        "dict1={'a': x, 'b':4, 'd':[1,2,3,4]}\n",
        "print(\"Old dictionary: \", dict1)\n",
        "for i in dict1[\"d\"]:\n",
        "  d.append(i + x)\n",
        "print(\"The updated value of d after adding a is:\",d)\n",
        "dict1[\"d\"] = d\n",
        "print(\"New dictionary: \", dict1)"
      ],
      "metadata": {
        "colab": {
          "base_uri": "https://localhost:8080/"
        },
        "id": "OHgmI8UyENUI",
        "outputId": "32571285-470a-4f9f-b178-f0a1024eda13"
      },
      "execution_count": null,
      "outputs": [
        {
          "output_type": "stream",
          "name": "stdout",
          "text": [
            "Enter the value of a: 3\n",
            "Old dictionary:  {'a': 3, 'b': 4, 'd': [1, 2, 3, 4]}\n",
            "The updated value of d after adding a is: [4, 5, 6, 7]\n",
            "New dictionary:  {'a': 3, 'b': 4, 'd': [4, 5, 6, 7]}\n"
          ]
        }
      ]
    },
    {
      "cell_type": "code",
      "source": [
        ""
      ],
      "metadata": {
        "id": "FNWFHdU7HLrp"
      },
      "execution_count": null,
      "outputs": []
    }
  ]
}